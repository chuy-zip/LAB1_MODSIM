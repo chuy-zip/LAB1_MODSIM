{
 "cells": [
  {
   "cell_type": "code",
   "execution_count": 5,
   "id": "1727e8f0",
   "metadata": {},
   "outputs": [],
   "source": [
    "# importar las librerias que se van a usra\n",
    "using JuMP\n",
    "using Ipopt \n",
    "using HiGHS \n",
    "using Optimization"
   ]
  },
  {
   "cell_type": "code",
   "execution_count": null,
   "id": "9dd8b32d",
   "metadata": {},
   "outputs": [
    {
     "data": {
      "text/latex": [
       "$ 50 x_{1} + 45 x_{2} + 55 x_{3} + 52 x_{4} + 48 x_{5} + 50 x_{6} + 8 I_{1} + 10 I_{2} + 10 I_{3} + 10 I_{4} + 8 I_{5} + 8 I_{6} $"
      ],
      "text/plain": [
       "50 x[1] + 45 x[2] + 55 x[3] + 52 x[4] + 48 x[5] + 50 x[6] + 8 I[1] + 10 I[2] + 10 I[3] + 10 I[4] + 8 I[5] + 8 I[6]"
      ]
     },
     "metadata": {},
     "output_type": "display_data"
    }
   ],
   "source": [
    "model = Model()\n",
    "\n",
    "# Variables de producción e inventario\n",
    "@variable(model, 0 <= x[1:6] <= 225)  # Producción por mes con  limite de 255 \n",
    "@variable(model, I[0:6] >= 0)  # Inventario inicial (I0) y final de cada mes\n",
    "fix(I[0], 0; force=true)  # Inventario inicial = 0\n",
    "\n",
    "# Demandas por mes\n",
    "D = [180, 250, 190, 140, 220, 250]\n",
    "\n",
    "# Restricciones de balance de inventario\n",
    "for i in 1:6\n",
    "    # elel vaalor de I_i se compone de lo producido en el mes i + \n",
    "    #lo que quedó del mes anterior - la demanda del mes correspondiente \n",
    "    @constraint(model, I[i] == I[i-1] + x[i] - D[i])\n",
    "end\n",
    "\n",
    "costos_prod = [50, 45, 55, 52, 48, 50]\n",
    "costos_inv = [8, 10, 10, 10, 8, 8]  \n",
    "# Función objetivo (costos producción + almacenamiento)\n",
    "@objective(model, Min, sum(costos_prod[i] * x[i] for i in 1:6) + \n",
    "                       sum(costos_inv[i] * I[i] for i in 1:6))\n",
    "\n"
   ]
  },
  {
   "cell_type": "code",
   "execution_count": 7,
   "id": "089bdff7",
   "metadata": {},
   "outputs": [],
   "source": [
    "set_optimizer(model, HiGHS.Optimizer)"
   ]
  },
  {
   "cell_type": "code",
   "execution_count": 8,
   "id": "6dbed87b",
   "metadata": {},
   "outputs": [
    {
     "data": {
      "text/plain": [
       "A JuMP Model\n",
       "├ solver: HiGHS\n",
       "├ objective_sense: MIN_SENSE\n",
       "│ └ objective_function_type: AffExpr\n",
       "├ num_variables: 13\n",
       "├ num_constraints: 25\n",
       "│ ├ AffExpr in MOI.EqualTo{Float64}: 6\n",
       "│ ├ VariableRef in MOI.EqualTo{Float64}: 1\n",
       "│ ├ VariableRef in MOI.GreaterThan{Float64}: 12\n",
       "│ └ VariableRef in MOI.LessThan{Float64}: 6\n",
       "└ Names registered in the model\n",
       "  └ :I, :x"
      ]
     },
     "metadata": {},
     "output_type": "display_data"
    }
   ],
   "source": [
    "model"
   ]
  },
  {
   "cell_type": "code",
   "execution_count": 9,
   "id": "3102fa46",
   "metadata": {},
   "outputs": [
    {
     "name": "stdout",
     "output_type": "stream",
     "text": [
      "Running HiGHS 1.11.0 (git hash: 364c83a51e): Copyright (c) 2025 HiGHS under MIT licence terms\n",
      "LP   has 6 rows; 13 cols; 18 nonzeros\n",
      "Coefficient ranges:\n",
      "  Matrix [1e+00, 1e+00]\n",
      "  Cost   [8e+00, 6e+01]\n",
      "  Bound  [2e+02, 2e+02]\n",
      "  RHS    [1e+02, 2e+02]\n",
      "Presolving model\n",
      "6 rows, 12 cols, 17 nonzeros  0s\n",
      "3 rows, 8 cols, 10 nonzeros  0s\n",
      "2 rows, 7 cols, 8 nonzeros  0s\n",
      "Dependent equations search running on 2 equations with time limit of 1000.00s\n",
      "Dependent equations search removed 0 rows and 0 nonzeros in 0.00s (limit = 1000.00s)\n",
      "2 rows, 7 cols, 8 nonzeros  0s\n",
      "Presolve : Reductions: rows 2(-4); columns 7(-6); elements 8(-10)\n",
      "Solving the presolved LP\n",
      "Using EKK dual simplex solver - serial\n",
      "  Iteration        Objective     Infeasibilities num(sum)\n",
      "          0     1.6295000000e+04 Pr: 2(800) 0s\n",
      "          3     6.1795000000e+04 Pr: 0(0) 0s\n",
      "Solving the original LP from the solution after postsolve\n",
      "Model status        : Optimal\n",
      "Simplex   iterations: 3\n",
      "Objective value     :  6.1795000000e+04\n",
      "P-D objective error :  0.0000000000e+00\n",
      "HiGHS run time      :          0.00\n"
     ]
    }
   ],
   "source": [
    "optimize!(model)"
   ]
  },
  {
   "cell_type": "code",
   "execution_count": 10,
   "id": "28d29887",
   "metadata": {},
   "outputs": [
    {
     "name": "stdout",
     "output_type": "stream",
     "text": [
      "Producción óptima: [205.0, 225.0, 190.0, 160.0, 225.0, 225.0]\n",
      "Inventario óptimo: 1-dimensional DenseAxisArray{Float64,1,...} with index sets:\n",
      "    Dimension 1, [1, 2, 3, 4, 5, 6]\n",
      "And data, a 6-element Vector{Float64}:\n",
      " 25.0\n",
      "  0.0\n",
      "  0.0\n",
      " 20.0\n",
      " 25.0\n",
      "  0.0\n",
      "Costo total mínimo: $61795.0\n"
     ]
    }
   ],
   "source": [
    "# Resultados\n",
    "println(\"Producción óptima: \", value.(x))\n",
    "println(\"Inventario óptimo: \", value.(I[1:6]))\n",
    "println(\"Costo total mínimo: \\$\", objective_value(model))"
   ]
  },
  {
   "cell_type": "markdown",
   "id": "5c1fe62d",
   "metadata": {},
   "source": [
    "## MOdelo sin inventario"
   ]
  },
  {
   "cell_type": "code",
   "execution_count": null,
   "id": "52497778",
   "metadata": {},
   "outputs": [
    {
     "name": "stdout",
     "output_type": "stream",
     "text": [
      "Running HiGHS 1.11.0 (git hash: 364c83a51e): Copyright (c) 2025 HiGHS under MIT licence terms\n",
      "LP   has 6 rows; 6 cols; 6 nonzeros\n",
      "Coefficient ranges:\n",
      "  Matrix [1e+00, 1e+00]\n",
      "  Cost   [4e+01, 6e+01]\n",
      "  Bound  [2e+02, 2e+02]\n",
      "  RHS    [1e+02, 2e+02]\n",
      "Presolving model\n",
      "0 rows, 0 cols, 0 nonzeros  0s\n",
      "0 rows, 0 cols, 0 nonzeros  0s\n",
      "Presolve : Reductions: rows 0(-6); columns 0(-6); elements 0(-6) - Reduced to empty\n",
      "Solving the original LP from the solution after postsolve\n",
      "Model status        : Optimal\n",
      "Objective value     :  6.1040000000e+04\n",
      "P-D objective error :  0.0000000000e+00\n",
      "HiGHS run time      :          0.01\n",
      "Producción (sin inventario): [180.0, 250.0, 190.0, 140.0, 220.0, 250.0]\n",
      "Costo total: $61040.0\n"
     ]
    }
   ],
   "source": [
    "model_no_inventory = Model(HiGHS.Optimizer)\n",
    "\n",
    "@variable(model_no_inventory, 0 <= x[1:6] <= 250)  # Capacidad de 250\n",
    "D = [180, 250, 190, 140, 220, 250]  # Demandas\n",
    "\n",
    "# Restricción: producir exactamente la demanda\n",
    "for i in 1:6\n",
    "    @constraint(model_no_inventory, x[i] == D[i])\n",
    "end\n",
    "\n",
    "@objective(model_no_inventory, Min, sum([50, 45, 55, 52, 48, 50][i] * x[i] for i in 1:6))\n",
    "\n",
    "optimize!(model_no_inventory)\n",
    "\n",
    "println(\"Producción (sin inventario): \", value.(x))\n",
    "println(\"Costo total: \\$\", objective_value(model_no_inventory))"
   ]
  },
  {
   "cell_type": "markdown",
   "id": "2bfda77b",
   "metadata": {},
   "source": [
    "## Ahora con restricciones enteras"
   ]
  },
  {
   "cell_type": "code",
   "execution_count": null,
   "id": "f81bfc6c",
   "metadata": {},
   "outputs": [
    {
     "data": {
      "text/latex": [
       "$ 50 x_{1} + 45 x_{2} + 55 x_{3} + 52 x_{4} + 48 x_{5} + 50 x_{6} + 8 I_{1} + 10 I_{2} + 10 I_{3} + 10 I_{4} + 8 I_{5} + 8 I_{6} $"
      ],
      "text/plain": [
       "50 x[1] + 45 x[2] + 55 x[3] + 52 x[4] + 48 x[5] + 50 x[6] + 8 I[1] + 10 I[2] + 10 I[3] + 10 I[4] + 8 I[5] + 8 I[6]"
      ]
     },
     "metadata": {},
     "output_type": "display_data"
    }
   ],
   "source": [
    "model_enteros = Model()\n",
    "\n",
    "# Variables de producción e inventario pero con restriccion entera\n",
    "@variable(model_enteros, 0 <= x[1:6] <= 225, Int)  \n",
    "@variable(model_enteros, I[0:6] >= 0, Int)  \n",
    "fix(I[0], 0; force=true)  \n",
    "\n",
    "# Demandas por mes\n",
    "D = [180, 250, 190, 140, 220, 250]\n",
    "\n",
    "# Restricciones de balance de inventario\n",
    "for i in 1:6\n",
    "    @constraint(model_enteros, I[i] == I[i-1] + x[i] - D[i])\n",
    "end\n",
    "\n",
    "costos_prod = [50, 45, 55, 52, 48, 50]\n",
    "costos_inv = [8, 10, 10, 10, 8, 8]  \n",
    "@objective(model_enteros, Min, sum(costos_prod[i] * x[i] for i in 1:6) + \n",
    "                       sum(costos_inv[i] * I[i] for i in 1:6))\n",
    "\n"
   ]
  },
  {
   "cell_type": "code",
   "execution_count": 13,
   "id": "2d21b483",
   "metadata": {},
   "outputs": [],
   "source": [
    "set_optimizer(model_enteros, HiGHS.Optimizer)"
   ]
  },
  {
   "cell_type": "code",
   "execution_count": 14,
   "id": "415c1ac5",
   "metadata": {},
   "outputs": [
    {
     "data": {
      "text/plain": [
       "A JuMP Model\n",
       "├ solver: HiGHS\n",
       "├ objective_sense: MIN_SENSE\n",
       "│ └ objective_function_type: AffExpr\n",
       "├ num_variables: 13\n",
       "├ num_constraints: 38\n",
       "│ ├ AffExpr in MOI.EqualTo{Float64}: 6\n",
       "│ ├ VariableRef in MOI.EqualTo{Float64}: 1\n",
       "│ ├ VariableRef in MOI.GreaterThan{Float64}: 12\n",
       "│ ├ VariableRef in MOI.LessThan{Float64}: 6\n",
       "│ └ VariableRef in MOI.Integer: 13\n",
       "└ Names registered in the model\n",
       "  └ :I, :x"
      ]
     },
     "metadata": {},
     "output_type": "display_data"
    }
   ],
   "source": [
    "model_enteros"
   ]
  },
  {
   "cell_type": "code",
   "execution_count": 15,
   "id": "e3b3f66e",
   "metadata": {},
   "outputs": [
    {
     "name": "stdout",
     "output_type": "stream",
     "text": [
      "Running HiGHS 1.11.0 (git hash: 364c83a51e): Copyright (c) 2025 HiGHS under MIT licence terms\n",
      "MIP  has 6 rows; 13 cols; 18 nonzeros; 13 integer variables (0 binary)\n",
      "Coefficient ranges:\n",
      "  Matrix [1e+00, 1e+00]\n",
      "  Cost   [8e+00, 6e+01]\n",
      "  Bound  [2e+02, 2e+02]\n",
      "  RHS    [1e+02, 2e+02]\n",
      "Presolving model\n",
      "5 rows, 11 cols, 15 nonzeros  0s\n",
      "3 rows, 9 cols, 11 nonzeros  0s\n",
      "2 rows, 6 cols, 7 nonzeros  0s\n",
      "1 rows, 3 cols, 3 nonzeros  0s\n",
      "0 rows, 1 cols, 0 nonzeros  0s\n",
      "0 rows, 0 cols, 0 nonzeros  0s\n",
      "Presolve: Optimal\n",
      "\n",
      "Src: B => Branching; C => Central rounding; F => Feasibility pump; J => Feasibility jump;\n",
      "     H => Heuristic; L => Sub-MIP; P => Empty MIP; R => Randomized rounding; Z => ZI Round;\n",
      "     I => Shifting; S => Solve LP; T => Evaluate node; U => Unbounded; X => User solution;\n",
      "     z => Trivial zero; l => Trivial lower; u => Trivial upper; p => Trivial point\n",
      "\n",
      "        Nodes      |    B&B Tree     |            Objective Bounds              |  Dynamic Constraints |       Work      \n",
      "Src  Proc. InQueue |  Leaves   Expl. | BestBound       BestSol              Gap |   Cuts   InLp Confl. | LpIters     Time\n",
      "\n",
      "         0       0         0   0.00%   61795           61795              0.00%        0      0      0         0     0.0s\n",
      "\n",
      "Solving report\n",
      "  Status            Optimal\n",
      "  Primal bound      61795\n",
      "  Dual bound        61795\n",
      "  Gap               0% (tolerance: 0.01%)\n",
      "  P-D integral      0\n",
      "  Solution status   feasible\n",
      "                    61795 (objective)\n",
      "                    0 (bound viol.)\n",
      "                    0 (int. viol.)\n",
      "                    0 (row viol.)\n",
      "  Timing            0.01 (total)\n",
      "                    0.00 (presolve)\n",
      "                    0.00 (solve)\n",
      "                    0.00 (postsolve)\n",
      "  Max sub-MIP depth 0\n",
      "  Nodes             0\n",
      "  Repair LPs        0 (0 feasible; 0 iterations)\n",
      "  LP iterations     0 (total)\n",
      "                    0 (strong br.)\n",
      "                    0 (separation)\n",
      "                    0 (heuristics)\n"
     ]
    }
   ],
   "source": [
    "optimize!(model_enteros)"
   ]
  },
  {
   "cell_type": "code",
   "execution_count": 16,
   "id": "56fdd378",
   "metadata": {},
   "outputs": [
    {
     "name": "stdout",
     "output_type": "stream",
     "text": [
      "Producción óptima: [205.0, 225.0, 190.0, 160.0, 225.0, 225.0]\n",
      "Inventario óptimo: 1-dimensional DenseAxisArray{Float64,1,...} with index sets:\n",
      "    Dimension 1, [1, 2, 3, 4, 5, 6]\n",
      "And data, a 6-element Vector{Float64}:\n",
      " 25.0\n",
      "  0.0\n",
      "  0.0\n",
      " 20.0\n",
      " 25.0\n",
      "  0.0\n",
      "Costo total mínimo: $61795.0\n"
     ]
    }
   ],
   "source": [
    "# Resultados\n",
    "println(\"Producción óptima: \", value.(x))\n",
    "println(\"Inventario óptimo: \", value.(I[1:6]))\n",
    "println(\"Costo total mínimo: \\$\", objective_value(model_enteros))"
   ]
  }
 ],
 "metadata": {
  "kernelspec": {
   "display_name": "Julia 1.11.6",
   "language": "julia",
   "name": "julia-1.11"
  },
  "language_info": {
   "file_extension": ".jl",
   "mimetype": "application/julia",
   "name": "julia",
   "version": "1.11.6"
  }
 },
 "nbformat": 4,
 "nbformat_minor": 5
}
