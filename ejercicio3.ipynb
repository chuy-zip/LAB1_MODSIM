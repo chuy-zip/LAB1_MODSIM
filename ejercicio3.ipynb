{
 "cells": [
  {
   "cell_type": "code",
   "execution_count": 1,
   "id": "6636bea6",
   "metadata": {},
   "outputs": [],
   "source": [
    "using JuMP\n",
    "using HiGHS\n",
    "using Ipopt\n",
    "using Optimization"
   ]
  },
  {
   "cell_type": "code",
   "execution_count": 2,
   "id": "dbc6dccd",
   "metadata": {},
   "outputs": [
    {
     "data": {
      "text/plain": [
       "A JuMP Model\n",
       "├ solver: none\n",
       "├ objective_sense: FEASIBILITY_SENSE\n",
       "├ num_variables: 0\n",
       "├ num_constraints: 0\n",
       "└ Names registered in the model: none"
      ]
     },
     "metadata": {},
     "output_type": "display_data"
    }
   ],
   "source": [
    "model = Model()"
   ]
  },
  {
   "cell_type": "code",
   "execution_count": 4,
   "id": "1a8216ff",
   "metadata": {},
   "outputs": [
    {
     "data": {
      "text/latex": [
       "$ x1 + x2 + x3 + x4 + x5 + x6 $"
      ],
      "text/plain": [
       "x1 + x2 + x3 + x4 + x5 + x6"
      ]
     },
     "metadata": {},
     "output_type": "display_data"
    }
   ],
   "source": [
    "@variable(model, x1 >= 0, Int)\n",
    "@variable(model, x2 >= 0, Int)\n",
    "@variable(model, x3 >= 0, Int)\n",
    "@variable(model, x4 >= 0, Int)\n",
    "@variable(model, x5 >= 0, Int)\n",
    "@variable(model, x6 >= 0, Int)\n",
    "\n",
    "\n",
    "@constraint(model, x1+x6 >= 4)\n",
    "@constraint(model, x1+x2 >= 8)\n",
    "@constraint(model, x2+x3 >= 10)\n",
    "@constraint(model, x3+x4 >= 7)\n",
    "@constraint(model, x4+x5 >= 12)\n",
    "@constraint(model, x5+x6 >= 4)\n",
    "\n",
    "@objective(model, Min, x1 + x2 + x3 + x4 + x5 + x6)"
   ]
  },
  {
   "cell_type": "code",
   "execution_count": 5,
   "id": "ea8a8779",
   "metadata": {},
   "outputs": [
    {
     "data": {
      "text/plain": [
       "A JuMP Model\n",
       "├ solver: none\n",
       "├ objective_sense: MIN_SENSE\n",
       "│ └ objective_function_type: AffExpr\n",
       "├ num_variables: 6\n",
       "├ num_constraints: 18\n",
       "│ ├ AffExpr in MOI.GreaterThan{Float64}: 6\n",
       "│ ├ VariableRef in MOI.GreaterThan{Float64}: 6\n",
       "│ └ VariableRef in MOI.Integer: 6\n",
       "└ Names registered in the model\n",
       "  └ :x1, :x2, :x3, :x4, :x5, :x6"
      ]
     },
     "metadata": {},
     "output_type": "display_data"
    }
   ],
   "source": [
    "model"
   ]
  },
  {
   "cell_type": "code",
   "execution_count": 7,
   "id": "38faaba8",
   "metadata": {},
   "outputs": [
    {
     "name": "stdout",
     "output_type": "stream",
     "text": [
      "Running HiGHS 1.11.0 (git hash: 364c83a51e): Copyright (c) 2025 HiGHS under MIT licence terms\n",
      "MIP  has 6 rows; 6 cols; 12 nonzeros; 6 integer variables (0 binary)\n",
      "Coefficient ranges:\n",
      "  Matrix [1e+00, 1e+00]\n",
      "  Cost   [1e+00, 1e+00]\n",
      "  Bound  [0e+00, 0e+00]\n",
      "  RHS    [4e+00, 1e+01]\n",
      "Presolving model\n",
      "6 rows, 6 cols, 12 nonzeros  0s\n",
      "6 rows, 6 cols, 12 nonzeros  0s\n",
      "Objective function is integral with scale 1\n",
      "\n",
      "Solving MIP model with:\n",
      "   6 rows\n",
      "   6 cols (0 binary, 6 integer, 0 implied int., 0 continuous, 0 domain fixed)\n",
      "   12 nonzeros\n",
      "\n",
      "Src: B => Branching; C => Central rounding; F => Feasibility pump; J => Feasibility jump;\n",
      "     H => Heuristic; L => Sub-MIP; P => Empty MIP; R => Randomized rounding; Z => ZI Round;\n",
      "     I => Shifting; S => Solve LP; T => Evaluate node; U => Unbounded; X => User solution;\n",
      "     z => Trivial zero; l => Trivial lower; u => Trivial upper; p => Trivial point\n",
      "\n",
      "        Nodes      |    B&B Tree     |            Objective Bounds              |  Dynamic Constraints |       Work      \n",
      "Src  Proc. InQueue |  Leaves   Expl. | BestBound       BestSol              Gap |   Cuts   InLp Confl. | LpIters     Time\n",
      "\n",
      " J       0       0         0   0.00%   -inf            26                 Large        0      0      0         0     0.0s\n",
      "         1       0         1 100.00%   26              26                 0.00%        0      0      0         5     0.0s\n",
      "\n",
      "Solving report\n",
      "  Status            Optimal\n",
      "  Primal bound      26\n",
      "  Dual bound        26\n",
      "  Gap               0% (tolerance: 0.01%)\n",
      "  P-D integral      0.00327301025391\n",
      "  Solution status   feasible\n",
      "                    26 (objective)\n",
      "                    0 (bound viol.)\n",
      "                    0 (int. viol.)\n",
      "                    0 (row viol.)\n",
      "  Timing            0.02 (total)\n",
      "                    0.00 (presolve)\n",
      "                    0.00 (solve)\n",
      "                    0.00 (postsolve)\n",
      "  Max sub-MIP depth 0\n",
      "  Nodes             1\n",
      "  Repair LPs        0 (0 feasible; 0 iterations)\n",
      "  LP iterations     5 (total)\n",
      "                    0 (strong br.)\n",
      "                    0 (separation)\n",
      "                    0 (heuristics)\n"
     ]
    }
   ],
   "source": [
    "set_optimizer(model, HiGHS.Optimizer)\n",
    "result = optimize!(model)"
   ]
  },
  {
   "cell_type": "code",
   "execution_count": 9,
   "id": "0ebfd5f4",
   "metadata": {},
   "outputs": [
    {
     "name": "stdout",
     "output_type": "stream",
     "text": [
      "x1 = 4.0\n",
      "x2 = 8.0\n",
      "x3 = 2.0\n",
      "x4 = 7.0\n",
      "x5 = 5.0\n",
      "x6 = -0.0\n",
      "\n",
      "objective value = 26.0"
     ]
    },
    {
     "data": {
      "text/plain": [
       "print (generic function with 45 methods)"
      ]
     },
     "metadata": {},
     "output_type": "display_data"
    }
   ],
   "source": [
    "print(\"x1 = \", value.(x1), \"\\n\")\n",
    "print(\"x2 = \", value.(x2), \"\\n\")\n",
    "print(\"x3 = \", value.(x3), \"\\n\")\n",
    "print(\"x4 = \", value.(x4), \"\\n\")\n",
    "print(\"x5 = \", value.(x5), \"\\n\")\n",
    "print(\"x6 = \", value.(x6), \"\\n\\n\")\n",
    "\n",
    "\n",
    "\n",
    "print(\"objective value = \", objective_value(model))\n",
    "\n",
    "print"
   ]
  }
 ],
 "metadata": {
  "kernelspec": {
   "display_name": "Julia 1.11.6",
   "language": "julia",
   "name": "julia-1.11"
  },
  "language_info": {
   "file_extension": ".jl",
   "mimetype": "application/julia",
   "name": "julia",
   "version": "1.11.6"
  }
 },
 "nbformat": 4,
 "nbformat_minor": 5
}
