{
 "cells": [
  {
   "cell_type": "markdown",
   "id": "0f8a1389",
   "metadata": {},
   "source": [
    "# MOdelo de un renovación urbana\n",
    "La ciudad de Erstville enfrenta un grave recorte de presupuesto. Buscando una solucion a largo plazo para mejorar la base tributaria, el consejo de la ciudad propone la demolicion de un area de viviendas dentro de la ciudad, y su reemplazo con un moderno desarrollo. El proyecto implica dos fases: (1) demolicion de casas populares para obtener el terreno para el nuevo desarrollo, y (2) construccion del nuevo desarrollo. A continuacion, un resumen de la situacion.\n",
    "\n",
    "1. Se pueden demoler 300 casas populares. Cada casa ocupa un lote de 0.25 acres. El costo de demoler una casa es de $2000\n",
    "2. Los tamanios de los lotes para construir casas unifamiliares, dobles, triples y cuadruples, son de 0.18, 0.28, 0.4 y 0.5 acres, respectivamente. Las calles, los espacios abiertos y el area para la instalacion de servicios, ocupan 15% del area disponible.\n",
    "3. En el nuevo desarrollo, las unidades triples y cuadruples ocupan por lo menos 25% del total. Las unidades sencillas deben ser al menos 20% de todas las unidades, y las unidades dobles deben ocupar un minimo de 10%.\n",
    "4. El impuesto por unidad aplicado a las unidades sencillas, dobles, triples y cuadruples es de $1000, $1900, $2700 y $3400, respectivamente.\n",
    "5. El costo de construccion por unidad de las casas sencillas, dobles, triples y cuadruples es de $50,000, $70,000, $130,000 y $160,000, respectivamente. El financiamiento a traves de un banco local esta limitado a $15 millones."
   ]
  },
  {
   "cell_type": "markdown",
   "id": "4791d4dc",
   "metadata": {},
   "source": [
    "## Pregunta a resolver\n",
    "¿Cuantas unidades de cada tipo se deben construir para maximizar la recaudacion de impuestos? Debera hacer lo siguiente:\n",
    "\n",
    "## Requisitos\n",
    "\n",
    "1. Formular el problema de programamcion lineal.\n",
    "2. Resolver el problema usando la librerıa JuMP o Pulp, en variables continuas, y determinar la distribucion optima.\n",
    "3. Resolver el problema en variables enteras, y comparar la solucion con la de (b). Discuta sus resultados."
   ]
  },
  {
   "cell_type": "markdown",
   "id": "0ecdce30",
   "metadata": {},
   "source": [
    "# Planteamiento del problema\n",
    "\n",
    "Para hacer este ejercicio es encesario convertir l ainformación textual ecuaciones lineales que se puedan resolver. Los componentes que necesitamos para hacer el ejercicio son las variables, función objetivo y las restricciones. \n",
    "\n",
    "\n",
    "### Variables\n",
    "\n",
    "* x1: Número de unidades de casas sencillas\n",
    "* x2: Número de unidades de casas dobles\n",
    "* x3: Número de unidades de casas triples\n",
    "* x4: Número de unidades de casas cuádruples\n",
    "\n",
    "### Función objetivo\n",
    "Dado que lo que se quiere maximizar es la recaudación de impuestos, esto se hace a través de la cantidad óptima de cada tipo de casas múltiplicada por los impuestos de las mismas.\n",
    "\n",
    "* **F = 1000x1 + 1900x2 + 2700x3 + 3400x4**\n",
    "\n",
    "\n",
    "### Restricciones\n",
    "En este caso hay que tener en cuenta bastantes restricciones de hecho. Hay restricciones para el area que se puede utilizar para construir, el presupuesto disponible (teniendo en cuenta los múltiples costos tanto de construccíon como demolición), proporción de unidades y las condiciones triviales.\n",
    "\n",
    "#### Restricciones triviales\n",
    "Hay que hacerlo tanto con cantidades continuas como con variables enteras. Pero siempre la cantidad de las casas tiene que ser mayor o igual a 0, osea la restricción de no negatividad.\n",
    "\n",
    "* **x1,x2,x3,x4 >= 0**\n",
    "\n",
    "#### Restricción del terreno\n",
    "\n",
    "Hay espacio de 300 casas y cada una ocupa 0.25 acres, pero de ese total, solo se puede usar el 85% (0.85) ya que 15% será para calles y otras areas no habitables. Entonces:\n",
    "\n",
    "300 * 0.25 * 0.85 = 63.75 acres es el area disponible\n",
    "\n",
    "Ojo con algo importante demoler 300 casas tiene un costo. 300 * 2000 = 600000, esto se debe tener en cuenta en el financiamiento.\n",
    "\n",
    "Tomando los tamaños de lotes por casa sería entonces:\n",
    "\n",
    "* **0.18x1 + 0.28x2 + 0.40x3 + 0.50x4 <= 63.75**\n",
    "\n",
    "\n",
    "#### Restricción de financiamiento\n",
    "\n",
    "Se tiene un financiamiento de 15 millones, pero hay que tener en cuenta costos de demolición y construcción.\n",
    "\n",
    "costo_dem + costo_constr <= financiamiento\n",
    "\n",
    "600000 + 50000x1 + 70000x2 + 130000x3 + 160000x4 <= 15000000\n",
    "\n",
    "* **50000x1 + 70000x2 + 130000x3 + 160000x4 <= 14400000**\n",
    "\n",
    "#### Restricciones de proporciones\n",
    "\n",
    "Esta son un poco más detalladas, y aque hay algunas casas que no deben de ocupar tanto espacio del total\n",
    "\n",
    "Las unidades triples y cuadruples ocupan por lo menos 25% del total, osea:\n",
    "\n",
    "* __x3 + x4 >= 0.25*(x1 + x2 + x3 + x4)__\n",
    "\n",
    "\n",
    "Las unidades sencillas deben ser al menos 20% de todas las unidades\n",
    "\n",
    "* __x1 >= 0.20*(x1 + x2 + x3 + x4)__\n",
    "\n",
    "\n",
    "las unidades dobles deben ocupar un minimo de 10%\n",
    "\n",
    "* __x2 >= 0.10*(x1 + x2 + x3 + x4)__\n",
    "\n",
    "\n",
    "\n",
    "Y con todo esto junto, enntonces ya se puede realizar el modelo utilizando las librerías de Julia.\n"
   ]
  },
  {
   "cell_type": "code",
   "execution_count": 1,
   "id": "d526f8d5",
   "metadata": {},
   "outputs": [],
   "source": [
    "# importar las librerias que se van a usra\n",
    "using JuMP\n",
    "using Ipopt \n",
    "using HiGHS \n",
    "using Optimization"
   ]
  },
  {
   "cell_type": "markdown",
   "id": "cc0626c8",
   "metadata": {},
   "source": [
    "##### Resolver el problema usando la librerıa JuMP o Pulp, en variables continuas, y determinar la distribucion optima."
   ]
  },
  {
   "cell_type": "code",
   "execution_count": null,
   "id": "c4304e5f",
   "metadata": {},
   "outputs": [
    {
     "data": {
      "text/latex": [
       "$ 1000 x1 + 1900 x2 + 2700 x3 + 3400 x4 $"
      ],
      "text/plain": [
       "1000 x1 + 1900 x2 + 2700 x3 + 3400 x4"
      ]
     },
     "metadata": {},
     "output_type": "display_data"
    }
   ],
   "source": [
    "# Define LP model\n",
    "model_continuo = Model()\n",
    "\n",
    "# variables de las casas y su restriccion base\n",
    "@variable(model_continuo, x1 >= 0)\n",
    "@variable(model_continuo, x2 >= 0)\n",
    "@variable(model_continuo, x3 >= 0)\n",
    "@variable(model_continuo, x4 >= 0)\n",
    "\n",
    "#constraints\n",
    "# restriccion de terreno\n",
    "@constraint(model_continuo, 0.18x1 + 0.28x2 + 0.40x3 + 0.50x4 <= 63.75)\n",
    "\n",
    "# restriccion de financiamiento\n",
    "@constraint(model_continuo, 50000x1 + 70000x2 + 130000x3 + 160000x4 <= 14400000)\n",
    "\n",
    "#restricciones de proporciones\n",
    "@constraint(model_continuo, x3 + x4 >= 0.25*(x1 + x2 + x3 + x4) )\n",
    "@constraint(model_continuo, x1 >= 0.20*(x1 + x2 + x3 + x4) )\n",
    "@constraint(model_continuo, x2 >= 0.10*(x1 + x2 + x3 + x4) )\n",
    "\n",
    "# funcion objetivo\n",
    "@objective(model_continuo, Max, 1000x1 + 1900x2 + 2700x3 + 3400x4)\n"
   ]
  },
  {
   "cell_type": "code",
   "execution_count": 3,
   "id": "b416c137",
   "metadata": {},
   "outputs": [],
   "source": [
    "set_optimizer(model_continuo, HiGHS.Optimizer)"
   ]
  },
  {
   "cell_type": "code",
   "execution_count": 4,
   "id": "f4e76abb",
   "metadata": {},
   "outputs": [
    {
     "data": {
      "text/plain": [
       "A JuMP Model\n",
       "├ solver: HiGHS\n",
       "├ objective_sense: MAX_SENSE\n",
       "│ └ objective_function_type: AffExpr\n",
       "├ num_variables: 4\n",
       "├ num_constraints: 9\n",
       "│ ├ AffExpr in MOI.GreaterThan{Float64}: 3\n",
       "│ ├ AffExpr in MOI.LessThan{Float64}: 2\n",
       "│ └ VariableRef in MOI.GreaterThan{Float64}: 4\n",
       "└ Names registered in the model\n",
       "  └ :x1, :x2, :x3, :x4"
      ]
     },
     "metadata": {},
     "output_type": "display_data"
    }
   ],
   "source": [
    "model_continuo"
   ]
  },
  {
   "cell_type": "code",
   "execution_count": 5,
   "id": "2c5f5c29",
   "metadata": {},
   "outputs": [
    {
     "name": "stdout",
     "output_type": "stream",
     "text": [
      "Running HiGHS 1.11.0 (git hash: 364c83a51e): Copyright (c) 2025 HiGHS under MIT licence terms\n",
      "LP   has 5 rows; 4 cols; 20 nonzeros\n",
      "Coefficient ranges:\n",
      "  Matrix [1e-01, 2e+05]\n",
      "  Cost   [1e+03, 3e+03]\n",
      "  Bound  [0e+00, 0e+00]\n",
      "  RHS    [6e+01, 1e+07]\n",
      "Presolving model\n",
      "5 rows, 4 cols, 20 nonzeros  0s\n",
      "5 rows, 4 cols, 20 nonzeros  0s\n",
      "Presolve : Reductions: rows 5(-0); columns 4(-0); elements 20(-0) - Not reduced\n",
      "Problem not reduced by presolve: solving the LP\n",
      "Using EKK dual simplex solver - serial\n",
      "  Iteration        Objective     Infeasibilities num(sum)\n",
      "          0    -1.2578114611e+02 Ph1: 4(14.302); Du: 4(125.781) 0s\n",
      "          3     3.4133333333e+05 Pr: 0(0) 0s\n",
      "Model status        : Optimal\n",
      "Simplex   iterations: 3\n",
      "Objective value     :  3.4133333333e+05\n",
      "P-D objective error :  0.0000000000e+00\n",
      "HiGHS run time      :          0.00\n"
     ]
    }
   ],
   "source": [
    "optimize!(model_continuo)"
   ]
  },
  {
   "cell_type": "code",
   "execution_count": 6,
   "id": "12c23763",
   "metadata": {},
   "outputs": [
    {
     "name": "stdout",
     "output_type": "stream",
     "text": [
      "x1 = 35.55555555555556\n",
      "x2 = 97.77777777777777\n",
      "x3 = 44.44444444444444\n",
      "x4 = 0.0\n",
      "\n",
      "Los impuestos maximizados serian = 341333.3333333333"
     ]
    }
   ],
   "source": [
    "# solucion\n",
    "print(\"x1 = \", value.(x1), \"\\n\")\n",
    "print(\"x2 = \", value.(x2), \"\\n\")\n",
    "print(\"x3 = \", value.(x3), \"\\n\")\n",
    "print(\"x4 = \", value.(x4), \"\\n\\n\")\n",
    "\n",
    "print(\"Los impuestos maximizados serian = \", objective_value(model_continuo))"
   ]
  },
  {
   "cell_type": "markdown",
   "id": "cd3fdf71",
   "metadata": {},
   "source": [
    "##### Resolver el problema en variables enteras, y comparar la solucion con la de (b). Discuta sus resultados."
   ]
  },
  {
   "cell_type": "code",
   "execution_count": null,
   "id": "e32eb787",
   "metadata": {},
   "outputs": [
    {
     "data": {
      "text/latex": [
       "$ 1000 x1 + 1900 x2 + 2700 x3 + 3400 x4 $"
      ],
      "text/plain": [
       "1000 x1 + 1900 x2 + 2700 x3 + 3400 x4"
      ]
     },
     "metadata": {},
     "output_type": "display_data"
    }
   ],
   "source": [
    "# Define LP model\n",
    "model_discreto = Model()\n",
    "\n",
    "# variables de las casas y su restriccion base\n",
    "@variable(model_discreto, x1 >= 0, Int)\n",
    "@variable(model_discreto, x2 >= 0, Int)\n",
    "@variable(model_discreto, x3 >= 0, Int)\n",
    "@variable(model_discreto, x4 >= 0, Int)\n",
    "\n",
    "\n",
    "#constraints\n",
    "# restriccion de terreno\n",
    "@constraint(model_discreto, 0.18x1 + 0.28x2 + 0.40x3 + 0.50x4 <= 63.75)\n",
    "\n",
    "# restriccion de financiamiento\n",
    "@constraint(model_discreto, 50000x1 + 70000x2 + 130000x3 + 160000x4 <= 14400000)\n",
    "\n",
    "#restricciones de proporciones\n",
    "@constraint(model_discreto, x3 + x4 >= 0.25*(x1 + x2 + x3 + x4) )\n",
    "@constraint(model_discreto, x1 >= 0.20*(x1 + x2 + x3 + x4) )\n",
    "@constraint(model_discreto, x2 >= 0.10*(x1 + x2 + x3 + x4) )\n",
    "\n",
    "# funcion objetivo\n",
    "@objective(model_discreto, Max, 1000x1 + 1900x2 + 2700x3 + 3400x4)"
   ]
  },
  {
   "cell_type": "code",
   "execution_count": 8,
   "id": "d0c1be92",
   "metadata": {},
   "outputs": [],
   "source": [
    "set_optimizer(model_discreto, HiGHS.Optimizer)"
   ]
  },
  {
   "cell_type": "code",
   "execution_count": 9,
   "id": "decb782a",
   "metadata": {},
   "outputs": [
    {
     "data": {
      "text/plain": [
       "A JuMP Model\n",
       "├ solver: HiGHS\n",
       "├ objective_sense: MAX_SENSE\n",
       "│ └ objective_function_type: AffExpr\n",
       "├ num_variables: 4\n",
       "├ num_constraints: 13\n",
       "│ ├ AffExpr in MOI.GreaterThan{Float64}: 3\n",
       "│ ├ AffExpr in MOI.LessThan{Float64}: 2\n",
       "│ ├ VariableRef in MOI.GreaterThan{Float64}: 4\n",
       "│ └ VariableRef in MOI.Integer: 4\n",
       "└ Names registered in the model\n",
       "  └ :x1, :x2, :x3, :x4"
      ]
     },
     "metadata": {},
     "output_type": "display_data"
    }
   ],
   "source": [
    "model_discreto"
   ]
  },
  {
   "cell_type": "code",
   "execution_count": 10,
   "id": "e313764a",
   "metadata": {},
   "outputs": [
    {
     "name": "stdout",
     "output_type": "stream",
     "text": [
      "Running HiGHS 1.11.0 (git hash: 364c83a51e): Copyright (c) 2025 HiGHS under MIT licence terms\n",
      "MIP  has 5 rows; 4 cols; 20 nonzeros; 4 integer variables (0 binary)\n",
      "Coefficient ranges:\n",
      "  Matrix [1e-01, 2e+05]\n",
      "  Cost   [1e+03, 3e+03]\n",
      "  Bound  [0e+00, 0e+00]\n",
      "  RHS    [6e+01, 1e+07]\n",
      "Presolving model\n",
      "5 rows, 4 cols, 20 nonzeros  0s\n",
      "5 rows, 4 cols, 20 nonzeros  0s\n",
      "Objective function is integral with scale 0.01\n",
      "\n",
      "Solving MIP model with:\n",
      "   5 rows\n",
      "   4 cols (0 binary, 4 integer, 0 implied int., 0 continuous, 0 domain fixed)\n",
      "   20 nonzeros\n",
      "\n",
      "Src: B => Branching; C => Central rounding; F => Feasibility pump; J => Feasibility jump;\n",
      "     H => Heuristic; L => Sub-MIP; P => Empty MIP; R => Randomized rounding; Z => ZI Round;\n",
      "     I => Shifting; S => Solve LP; T => Evaluate node; U => Unbounded; X => User solution;\n",
      "     z => Trivial zero; l => Trivial lower; u => Trivial upper; p => Trivial point\n",
      "\n",
      "        Nodes      |    B&B Tree     |            Objective Bounds              |  Dynamic Constraints |       Work      \n",
      "Src  Proc. InQueue |  Leaves   Expl. | BestBound       BestSol              Gap |   Cuts   InLp Confl. | LpIters     Time\n",
      "\n",
      " J       0       0         0   0.00%   inf             -0                 Large        0      0      0         0     0.0s\n",
      "         0       0         0   0.00%   341333.333333   -0                 Large        0      0      2         4     0.0s\n",
      " C       0       0         0   0.00%   341133.333333   337200             1.17%       21      6      6        11     0.0s\n",
      " H       0       0         0   0.00%   341100          341100             0.00%       29      8      6        13     0.0s\n",
      "         1       0         1 100.00%   341100          341100             0.00%       29      8      7        13     0.0s\n",
      "\n",
      "Solving report\n",
      "  Status            Optimal\n",
      "  Primal bound      341100\n",
      "  Dual bound        341100\n",
      "  Gap               0% (tolerance: 0.01%)\n",
      "  P-D integral      1.60709936754e-05\n",
      "  Solution status   feasible\n",
      "                    341100 (objective)\n",
      "                    0 (bound viol.)\n",
      "                    2.22399876293e-12 (int. viol.)\n",
      "                    0 (row viol.)\n",
      "  Timing            0.03 (total)\n",
      "                    0.00 (presolve)\n",
      "                    0.00 (solve)\n",
      "                    0.00 (postsolve)\n",
      "  Max sub-MIP depth 0\n",
      "  Nodes             1\n",
      "  Repair LPs        0 (0 feasible; 0 iterations)\n",
      "  LP iterations     13 (total)\n",
      "                    0 (strong br.)\n",
      "                    9 (separation)\n",
      "                    0 (heuristics)\n"
     ]
    }
   ],
   "source": [
    "\n",
    "optimize!(model_discreto)"
   ]
  },
  {
   "cell_type": "code",
   "execution_count": 11,
   "id": "109bd410",
   "metadata": {},
   "outputs": [
    {
     "name": "stdout",
     "output_type": "stream",
     "text": [
      "x1 = 34.99999999999991\n",
      "x2 = 96.00000000000001\n",
      "x3 = 37.000000000002224\n",
      "x4 = 6.999999999998213\n",
      "\n",
      "Los impuestos maximizados serian = 341099.9999999999"
     ]
    }
   ],
   "source": [
    "# solucion\n",
    "print(\"x1 = \", value.(x1), \"\\n\")\n",
    "print(\"x2 = \", value.(x2), \"\\n\")\n",
    "print(\"x3 = \", value.(x3), \"\\n\")\n",
    "print(\"x4 = \", value.(x4), \"\\n\\n\")\n",
    "\n",
    "print(\"Los impuestos maximizados serian = \", objective_value(model_discreto))\n"
   ]
  },
  {
   "cell_type": "markdown",
   "id": "b9bca7c5",
   "metadata": {},
   "source": [
    "A pesar de haber especificado que fueran cantidades enteras aun hay decimales, sin embargo esto parece ser más un error de cálculo de punto flotante, ya que los decimales extra son muy pequños. Entonces se podría aproximar de la siguiente forma:\n",
    "\n",
    "* x1 = 35\n",
    "* x2 = 96\n",
    "* x3 = 37\n",
    "* x4 = 7\n",
    "\n",
    "Evaluando en la función objetivo se obtiene:\n",
    "\n",
    "1000*(35) + 1900*(96) + 2700*(37) + 3400*(7) = **341100**\n"
   ]
  },
  {
   "cell_type": "code",
   "execution_count": null,
   "id": "ea97e499",
   "metadata": {},
   "outputs": [],
   "source": []
  },
  {
   "cell_type": "markdown",
   "id": "6ab1a7b3",
   "metadata": {},
   "source": [
    "# Comparación de resultados\n",
    "\n",
    "## Cantidad de casas a construir\n",
    "| Variable | Respuesta Continua | Respuesta Discreta |\n",
    "| -------- | :------------------: | :-----------------: |\n",
    "| January  | 35.55555555555556  |        35         |\n",
    "| February | 97.77777777777777  |        96         |\n",
    "| March    | 44.44444444444444  |        37         |\n",
    "| March    | 0.0                |         7         |\n",
    "\n",
    "\n",
    "## Impuestos maximizados\n",
    "|          | Respuesta Continua | Respuesta Discreta |\n",
    "| -------- |:------------------:| :-----------------:|\n",
    "|  Total   | 341333.3333333333  |       341100       |\n",
    "\n",
    "\n",
    "Como se puede ver al final realmente los resultados son un tanto parecidos, siendo $341,333 aproxmadamente cuando se permite que la cantidad de casas sea continua y $341,100, habiendo entonces una diferencia de $233. Realmente la diferencia no es mucha y de tomar una decisión sería mejor tomar en cuenta el modelo con respuetas discretas. Lo que pasa es que realmente no es práctico decir que hay que hacer 44.4 casas triples. En un escenario real, las casas no se pueden hacer a medias. Es mejor tomar en cuenta el modelo que provee la cantidad en enteros de las casas. Halgo que me llama la atención es que la cantidad discreta parece más real, ya que en este si se construyn casas de todos los tipos. Se hacen menos casas triples pero si se construyen casas cuadruples, la diferencia de los impuestos al final no es tan significativa entonces es mejor tomar la cantidad discreta de casas, además que en este hay más variedad. \n"
   ]
  }
 ],
 "metadata": {
  "kernelspec": {
   "display_name": "Julia 1.11.6",
   "language": "julia",
   "name": "julia-1.11"
  },
  "language_info": {
   "file_extension": ".jl",
   "mimetype": "application/julia",
   "name": "julia",
   "version": "1.11.6"
  }
 },
 "nbformat": 4,
 "nbformat_minor": 5
}
