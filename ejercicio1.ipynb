{
 "cells": [
  {
   "cell_type": "code",
   "execution_count": 14,
   "id": "df888c8c",
   "metadata": {},
   "outputs": [],
   "source": [
    "using JuMP\n",
    "using Optimization\n",
    "using HiGHS"
   ]
  },
  {
   "cell_type": "code",
   "execution_count": 15,
   "id": "d7d3d5ca",
   "metadata": {},
   "outputs": [
    {
     "data": {
      "text/latex": [
       "$ x4 $"
      ],
      "text/plain": [
       "x4"
      ]
     },
     "metadata": {},
     "output_type": "display_data"
    }
   ],
   "source": [
    "model = Model()\n",
    "\n",
    "# Variables\n",
    "@variable(model, x1 >= 0)\n",
    "@variable(model, x2 >= 0)\n",
    "@variable(model, x3 >= 0)\n",
    "@variable(model, x4 >= 0)\n"
   ]
  },
  {
   "cell_type": "code",
   "execution_count": 16,
   "id": "7671fcbe",
   "metadata": {},
   "outputs": [
    {
     "data": {
      "text/latex": [
       "$ x1 + x2 + 3 x3 + 2 x4 $"
      ],
      "text/plain": [
       "x1 + x2 + 3 x3 + 2 x4"
      ]
     },
     "metadata": {},
     "output_type": "display_data"
    }
   ],
   "source": [
    "# Variable objetivo\n",
    "@objective(model, Max, x1 + x2 + 3x3 + 2x4)"
   ]
  },
  {
   "cell_type": "code",
   "execution_count": 17,
   "id": "bb0dabb1",
   "metadata": {},
   "outputs": [
    {
     "data": {
      "text/latex": [
       "$$ -x1 + x3 + 2 x4 \\leq 0 $$"
      ],
      "text/plain": [
       "-x1 + x3 + 2 x4 <= 0"
      ]
     },
     "metadata": {},
     "output_type": "display_data"
    }
   ],
   "source": [
    "# Restricciónes\n",
    "@constraint(model, x1 + 2x2 - 3x3 + 5x4 <= 4)\n",
    "@constraint(model,  5x1 - 2x2 + 6x4 <= 8)\n",
    "@constraint(model, 2x1 + 3x2 - 2x3 + 3x4 <= 3)\n",
    "@constraint(model, -x1 + x3 + 2x4 <= 0)"
   ]
  },
  {
   "cell_type": "code",
   "execution_count": 18,
   "id": "5d692b05",
   "metadata": {},
   "outputs": [
    {
     "data": {
      "text/plain": [
       "A JuMP Model\n",
       "├ solver: HiGHS\n",
       "├ objective_sense: MAX_SENSE\n",
       "│ └ objective_function_type: AffExpr\n",
       "├ num_variables: 4\n",
       "├ num_constraints: 8\n",
       "│ ├ AffExpr in MOI.LessThan{Float64}: 4\n",
       "│ └ VariableRef in MOI.GreaterThan{Float64}: 4\n",
       "└ Names registered in the model\n",
       "  └ :x1, :x2, :x3, :x4"
      ]
     },
     "metadata": {},
     "output_type": "display_data"
    }
   ],
   "source": [
    "\n",
    "set_optimizer(model, HiGHS.Optimizer)\n",
    "model"
   ]
  },
  {
   "cell_type": "code",
   "execution_count": 19,
   "id": "100877fc",
   "metadata": {},
   "outputs": [
    {
     "name": "stdout",
     "output_type": "stream",
     "text": [
      "Running HiGHS 1.11.0 (git hash: 364c83a51e): Copyright (c) 2025 HiGHS under MIT licence terms\n",
      "LP   has 4 rows; 4 cols; 14 nonzeros\n",
      "Coefficient ranges:\n",
      "  Matrix [1e+00, 6e+00]\n",
      "  Cost   [1e+00, 3e+00]\n",
      "  Bound  [0e+00, 0e+00]\n",
      "  RHS    [3e+00, 8e+00]\n",
      "Presolving model\n",
      "4 rows, 3 cols, 10 nonzeros  0s\n",
      "0 rows, 0 cols, 0 nonzeros  0s\n",
      "Presolve : Reductions: rows 0(-4); columns 0(-4); elements 0(-14) - Reduced to empty\n",
      "Solving the original LP from the solution after postsolve\n",
      "Model status        : Optimal\n",
      "Objective value     :  9.0000000000e+00\n",
      "P-D objective error :  0.0000000000e+00\n",
      "HiGHS run time      :          0.00\n"
     ]
    }
   ],
   "source": [
    "optimize!(model)"
   ]
  },
  {
   "cell_type": "code",
   "execution_count": 20,
   "id": "6b82e3cf",
   "metadata": {},
   "outputs": [
    {
     "name": "stdout",
     "output_type": "stream",
     "text": [
      "x1 =2.0\n",
      "x2 =1.0\n",
      "x3 =2.0\n",
      "x4 =0.0\n",
      "z  =9.0\n"
     ]
    }
   ],
   "source": [
    "# Resultados\n",
    "\n",
    "println(\"x1 =\", value(x1))\n",
    "println(\"x2 =\", value(x2))\n",
    "println(\"x3 =\", value(x3))\n",
    "println(\"x4 =\", value(x4))\n",
    "println(\"z  =\", objective_value(model))"
   ]
  }
 ],
 "metadata": {
  "kernelspec": {
   "display_name": "Julia 1.11.6",
   "language": "julia",
   "name": "julia-1.11"
  },
  "language_info": {
   "file_extension": ".jl",
   "mimetype": "application/julia",
   "name": "julia",
   "version": "1.11.6"
  }
 },
 "nbformat": 4,
 "nbformat_minor": 5
}
